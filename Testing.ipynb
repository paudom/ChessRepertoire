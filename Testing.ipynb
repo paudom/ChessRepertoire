{
 "cells": [
  {
   "cell_type": "code",
   "execution_count": null,
   "id": "52c25091-53c6-44e9-b4d1-64f36d9056a5",
   "metadata": {},
   "outputs": [],
   "source": [
    "import chess\n",
    "import chess.pgn as pgn"
   ]
  },
  {
   "cell_type": "code",
   "execution_count": null,
   "id": "9d0a082c-8d6c-47d0-8aec-54fbb28b4b3e",
   "metadata": {},
   "outputs": [],
   "source": [
    "from ipywidgets import interact, widgets\n",
    "from IPython.display import display, clear_output\n",
    "import time"
   ]
  },
  {
   "cell_type": "code",
   "execution_count": null,
   "id": "54a582f9-0d6a-4251-bca2-f5750737dff9",
   "metadata": {},
   "outputs": [],
   "source": [
    "import chess.svg"
   ]
  },
  {
   "cell_type": "code",
   "execution_count": null,
   "id": "58975567-092a-43cd-9756-5b6fdf7ec0a5",
   "metadata": {},
   "outputs": [],
   "source": [
    "board = chess.Board()\n",
    "board"
   ]
  },
  {
   "cell_type": "code",
   "execution_count": null,
   "id": "80ef055e-e54a-4a12-b687-9958465806c6",
   "metadata": {},
   "outputs": [],
   "source": [
    "chess.svg.board(board=board, size=600, flipped=True)"
   ]
  },
  {
   "cell_type": "code",
   "execution_count": null,
   "id": "39ab2d1e-91b9-426d-b89e-4618bbd9272e",
   "metadata": {},
   "outputs": [],
   "source": [
    "moves = ['Nf6', 'g6', 'Bg7', '0-0']\n",
    "count=0\n",
    "def f(move, count):\n",
    "    move = input('move: ')\n",
    "    board.push_san(move)\n",
    "    display(board)\n",
    "    time.sleep(2)\n",
    "    board.push_san(moves[count])\n",
    "    clear_output(wait=True)\n",
    "    display(board)"
   ]
  },
  {
   "cell_type": "code",
   "execution_count": null,
   "id": "feb71a79-52d5-482a-a2ca-df1cfdeab98b",
   "metadata": {},
   "outputs": [],
   "source": [
    "interact(f, move='', count=count)\n",
    "count += 1"
   ]
  },
  {
   "cell_type": "code",
   "execution_count": null,
   "id": "dd0357b4-c7b4-4e29-9f61-5b5aa792b6e0",
   "metadata": {},
   "outputs": [],
   "source": [
    "count"
   ]
  },
  {
   "cell_type": "code",
   "execution_count": null,
   "id": "84f127b7-0833-46c9-8882-05d7744c0780",
   "metadata": {},
   "outputs": [],
   "source": [
    "board.push(board.parse_san('Nf3'))"
   ]
  },
  {
   "cell_type": "code",
   "execution_count": null,
   "id": "42d01115-4a57-4c55-8b52-8a9dc32b2a40",
   "metadata": {},
   "outputs": [],
   "source": [
    "match = chess.SAN_REGEX.match('Nf6')"
   ]
  },
  {
   "cell_type": "code",
   "execution_count": null,
   "id": "653dc80b-3b2a-4f33-b0c8-395029648cc3",
   "metadata": {},
   "outputs": [],
   "source": [
    "match.group(0),match.group(1),match.group(2),match.group(3),match.group(4),match.group(5)"
   ]
  },
  {
   "cell_type": "code",
   "execution_count": null,
   "id": "fb1374c3-5fa8-489b-950c-53dbdddae136",
   "metadata": {},
   "outputs": [],
   "source": [
    "with open(\"data/repertoire/test.pgn\") as file:\n",
    "    game = pgn.read_game(file)"
   ]
  },
  {
   "cell_type": "code",
   "execution_count": null,
   "id": "b7c8a70b-be20-4aec-b621-01e737dc6c9f",
   "metadata": {},
   "outputs": [],
   "source": [
    "game.variations"
   ]
  },
  {
   "cell_type": "code",
   "execution_count": null,
   "id": "567a72c4-8bbd-4c1d-938c-859b6db9cb69",
   "metadata": {},
   "outputs": [],
   "source": [
    "all_moves = game.mainline_moves().start\n",
    "print(all_moves, type(all_moves))"
   ]
  },
  {
   "cell_type": "code",
   "execution_count": null,
   "id": "1c1506c6-3f48-46f0-93d5-15f69f0e756f",
   "metadata": {},
   "outputs": [],
   "source": [
    "node = game.next()\n",
    "node"
   ]
  },
  {
   "cell_type": "code",
   "execution_count": null,
   "id": "a745892f-ee88-419a-aa68-c2f5dcea6f1d",
   "metadata": {},
   "outputs": [],
   "source": [
    "node1 = node.next()\n",
    "node1"
   ]
  },
  {
   "cell_type": "code",
   "execution_count": null,
   "id": "a3c56137-ad34-48bc-8f2b-22dd58bfc4d1",
   "metadata": {},
   "outputs": [],
   "source": [
    "move = chess.Move.from_uci('d2d4')\n",
    "move"
   ]
  },
  {
   "cell_type": "code",
   "execution_count": null,
   "id": "0db43005-df28-44eb-8f5c-347d6e2be462",
   "metadata": {},
   "outputs": [],
   "source": [
    "board.push_san('d4')\n",
    "move1 = board.move_stack[0]\n",
    "move1"
   ]
  },
  {
   "cell_type": "code",
   "execution_count": null,
   "id": "9c2401c4-17b8-4bcf-9218-e8ad95b6dbe3",
   "metadata": {},
   "outputs": [],
   "source": [
    "move, move1"
   ]
  },
  {
   "cell_type": "code",
   "execution_count": null,
   "id": "979ae062-f9ed-489a-bfee-a80d6f8c96e0",
   "metadata": {},
   "outputs": [],
   "source": [
    "if move == move1:\n",
    "    print(True)"
   ]
  },
  {
   "cell_type": "code",
   "execution_count": null,
   "id": "af5c2e81-a9a6-4849-829b-1db8c2d1b738",
   "metadata": {},
   "outputs": [],
   "source": [
    "nodes = []\n",
    "first_node = game.next()\n",
    "print(game.variations)\n",
    "print(first_node.move)\n",
    "nodes.append(first_node)\n",
    "while nodes[-1].variations:\n",
    "    print(nodes[-1].variations)\n",
    "    next_node = nodes[-1].next()\n",
    "    print(next_node.move)\n",
    "    nodes.append(next_node)"
   ]
  },
  {
   "cell_type": "code",
   "execution_count": null,
   "id": "da05aba0-54a5-47fa-a39f-5c9f49094d88",
   "metadata": {},
   "outputs": [],
   "source": [
    "nodes[3].variations\n",
    "node0, node1 = nodes[3].variations[0], nodes[3].variations[1]\n",
    "node0, node1"
   ]
  },
  {
   "cell_type": "code",
   "execution_count": null,
   "id": "a942f83c-0e79-450a-915e-dd3a73d6c1c7",
   "metadata": {},
   "outputs": [],
   "source": [
    "node1.parent.variations"
   ]
  },
  {
   "cell_type": "code",
   "execution_count": null,
   "id": "d5eeb164-0a23-49c3-a224-0dac2e646c76",
   "metadata": {},
   "outputs": [],
   "source": [
    "type(nodes[3].parent.parent.parent)"
   ]
  },
  {
   "cell_type": "code",
   "execution_count": null,
   "id": "75c0fe39-0e2a-416d-af50-ce078211985a",
   "metadata": {},
   "outputs": [],
   "source": [
    "# To write a game maybe its possible to draw the moves into a board and then take all those moves and cronstruct the GameNode\n",
    "\"\"\"\n",
    ">>> game = chess.pgn.Game()\n",
    ">>> game.headers[\"Event\"] = \"Example\"\n",
    ">>> node = game.add_variation(chess.Move.from_uci(\"e2e4\"))\n",
    ">>> node = node.add_variation(chess.Move.from_uci(\"e7e5\"))\n",
    ">>> node.comment = \"Comment\n",
    "\"\"\"\""
   ]
  },
  {
   "cell_type": "code",
   "execution_count": null,
   "id": "42ca5b61-8b08-488b-bdf3-9028fe706258",
   "metadata": {},
   "outputs": [],
   "source": [
    "board"
   ]
  },
  {
   "cell_type": "code",
   "execution_count": null,
   "id": "e9432a4d-5853-4ba6-aad4-a978fdde9c35",
   "metadata": {},
   "outputs": [],
   "source": [
    "board = chess.Board()\n",
    "node = game.next()\n",
    "board.push(node.move)\n",
    "node1 = node.next()\n",
    "move = board.parse_san('c6')\n",
    "move1 = chess.Move.from_uci('c7c6')\n",
    "print(move, move1)\n",
    "if move == move1:\n",
    "    print(True)"
   ]
  },
  {
   "cell_type": "code",
   "execution_count": null,
   "id": "f0ab507d-86f1-44d9-b418-80c42c8b5d9b",
   "metadata": {},
   "outputs": [],
   "source": [
    "node1.add_variation(move1)"
   ]
  },
  {
   "cell_type": "code",
   "execution_count": null,
   "id": "4135db90-df4d-4e1b-818e-c72d854cfaa5",
   "metadata": {},
   "outputs": [],
   "source": [
    "board.push(move1)"
   ]
  },
  {
   "cell_type": "code",
   "execution_count": null,
   "id": "32449525-044b-4811-99c5-6d41db720523",
   "metadata": {},
   "outputs": [],
   "source": [
    "move = board.parse_san('c6')\n",
    "type(move)"
   ]
  },
  {
   "cell_type": "code",
   "execution_count": null,
   "id": "0dfa5bae-111d-432a-8f23-9a7050059d7c",
   "metadata": {},
   "outputs": [],
   "source": [
    "print(game)"
   ]
  },
  {
   "cell_type": "code",
   "execution_count": null,
   "id": "5d3001b3-926a-4a3b-a295-ad2bf15675a0",
   "metadata": {},
   "outputs": [],
   "source": [
    "main_moves = game.mainline_moves()\n",
    "main_moves\n",
    "for move in main_moves:\n",
    "    print(move)"
   ]
  },
  {
   "cell_type": "code",
   "execution_count": null,
   "id": "cf94cfcc-6e55-4fa1-ba8d-fdacbe90d34c",
   "metadata": {},
   "outputs": [],
   "source": [
    "main_moves??"
   ]
  }
 ],
 "metadata": {
  "kernelspec": {
   "display_name": "Python 3 (ipykernel)",
   "language": "python",
   "name": "python3"
  },
  "language_info": {
   "codemirror_mode": {
    "name": "ipython",
    "version": 3
   },
   "file_extension": ".py",
   "mimetype": "text/x-python",
   "name": "python",
   "nbconvert_exporter": "python",
   "pygments_lexer": "ipython3",
   "version": "3.9.6"
  }
 },
 "nbformat": 4,
 "nbformat_minor": 5
}
